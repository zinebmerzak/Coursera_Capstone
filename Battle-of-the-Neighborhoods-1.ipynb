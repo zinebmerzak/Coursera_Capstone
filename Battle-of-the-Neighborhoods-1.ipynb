{
    "cells": [
        {
            "cell_type": "markdown",
            "metadata": {
                "collapsed": true
            },
            "source": "<h1>Battle of the Neighborhoods - Clustering the Neighborhoods of Paris</h1>\n<h2>1. Introduction</h2>\n<p>TripAdvisor, the travel planning and booking site, unveiled the 2018 Travelers' Choice \u2122 Award-winning destinations. This ranking recognizes the favorite destinations of travelers around the world. In 2018, Paris took 1st place in the \u201cWorld\u201d ranking, ahead of London, Rome and New York.</p>\n<p>Travelers' Choice \u2122 Awards winners are determined based on an algorithm that assesses the quantity and quality of reviews of hotels, restaurants and attractions in destinations around the world, gathered over a 12-month period, as well as the booking interest of travelers when they search the web.</p>\n"
        },
        {
            "cell_type": "markdown",
            "metadata": {},
            "source": "<h2>2. Business Problem</h2>\n<p>The objective of this project is to provide tourists heading to Paris the relevant information about the best places to stay in the city while also taking into consideration the best attractions. We will try to find the most interesting neighborhood to stay in using an Airbnb service.</p>"
        },
        {
            "cell_type": "markdown",
            "metadata": {},
            "source": "<h2>3. Data</h2>\n<p>We will be using the following datasets provided by Airbnb:</p>\n<ul>\n    <li><a href=\"http://data.insideairbnb.com/france/ile-de-france/paris/2020-12-14/visualisations/neighbourhoods.csv\">http://data.insideairbnb.com/france/ile-de-france/paris/2020-12-14/visualisations/neighbourhoods.csv</a></li>\n    <li><a href=\"http://data.insideairbnb.com/france/ile-de-france/paris/2020-12-14/visualisations/neighbourhoods.geojson\">http://data.insideairbnb.com/france/ile-de-france/paris/2020-12-14/visualisations/neighbourhoods.geojson</a></li>"
        },
        {
            "cell_type": "markdown",
            "metadata": {},
            "source": "<p>We will also be leveraging the Foursquare API in order to discover information about different venues belonging to a neighborhood and a borough. Foursquare is a location data provider that will provide us with the relevant data involving our venues.</p>"
        },
        {
            "cell_type": "code",
            "execution_count": 1,
            "metadata": {},
            "outputs": [],
            "source": "!wget -q -O 'neighborhoods.geojson' http://data.insideairbnb.com/france/ile-de-france/paris/2020-12-14/visualisations/neighbourhoods.geojson"
        }
    ],
    "metadata": {
        "kernelspec": {
            "display_name": "Python 3.7",
            "language": "python",
            "name": "python3"
        },
        "language_info": {
            "codemirror_mode": {
                "name": "ipython",
                "version": 3
            },
            "file_extension": ".py",
            "mimetype": "text/x-python",
            "name": "python",
            "nbconvert_exporter": "python",
            "pygments_lexer": "ipython3",
            "version": "3.7.9"
        }
    },
    "nbformat": 4,
    "nbformat_minor": 1
}